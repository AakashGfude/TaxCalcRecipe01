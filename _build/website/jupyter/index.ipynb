{
 "cells": [
  {
   "cell_type": "markdown",
   "metadata": {},
   "source": [
    "# Welcome to AakashTest’s documentation!\n",
    "\n",
    "# Contents:\n",
    "- [Simple Notebook Example](demo_notebook.html)\n",
    "  - [Math](demo_notebook.html#math)\n",
    "  - [Tables](demo_notebook.html#tables)"
   ]
  },
  {
   "cell_type": "markdown",
   "metadata": {},
   "source": [
    "# Indices and tables\n",
    "\n",
    "- [Index](genindex.html)  \n",
    "- [Module Index](py-modindex.html)  \n",
    "- [Search Page](search.html)  "
   ]
  }
 ],
 "metadata": {
  "date": 1594001059.3160045,
  "filename": "index.rst",
  "kernelspec": {
   "display_name": "Python",
   "language": "python3",
   "name": "python3"
  },
  "title": "Welcome to AakashTest’s documentation!"
 },
 "nbformat": 4,
 "nbformat_minor": 4
}