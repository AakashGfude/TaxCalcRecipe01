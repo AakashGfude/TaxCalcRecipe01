{
 "cells": [
  {
   "cell_type": "markdown",
   "metadata": {},
   "source": [
    "# Simple Notebook Example\n",
    "\n",
    "This provides a notebook that demonstrates the different\n",
    "features available in the [sphinxcontrib.jupyter](https://github.com/QuantEcon/sphinxcontrib-jupyter)\n",
    "extension.\n",
    "\n",
    "Text will appear as a markdown cell in the notebook split by code-blocks.\n",
    "\n",
    "To add a code block you can use `code-block` directives such as:"
   ]
  },
  {
   "cell_type": "code",
   "execution_count": 1,
   "metadata": {
    "hide-output": false
   },
   "outputs": [],
   "source": [
    "%matplotlib inline"
   ]
  },
  {
   "cell_type": "code",
   "execution_count": 2,
   "metadata": {
    "hide-output": false
   },
   "outputs": [
    {
     "data": {
      "image/png": "[encoded data removed]",
      "text/plain": [
       "<Figure size 432x288 with 1 Axes>"
      ]
     },
     "metadata": {
      "needs_background": "light"
     },
     "output_type": "display_data"
    }
   ],
   "source": [
    "\"\"\"\n",
    "==================\n",
    "A simple Fill plot\n",
    "==================\n",
    "\n",
    "This example showcases the most basic fill plot a user can do with matplotlib.\n",
    "\"\"\"\n",
    "import numpy as np\n",
    "import matplotlib.pyplot as plt\n",
    "\n",
    "x = np.linspace(0, 1, 500)\n",
    "y = np.sin(4 * np.pi * x) * np.exp(-5 * x)\n",
    "\n",
    "fig, ax = plt.subplots()\n",
    "\n",
    "ax.fill(x, y, zorder=10)\n",
    "ax.grid(True, zorder=5)\n",
    "plt.show()"
   ]
  },
  {
   "cell_type": "markdown",
   "metadata": {},
   "source": [
    "Figures can be include using the **figure** directive\n",
    "\n",
    "<img src=\"_static/fill_demo1.png\" style=\"\">"
   ]
  },
  {
   "cell_type": "markdown",
   "metadata": {},
   "source": [
    "## Math\n",
    "\n",
    "Math will flow through to the Jupyter notebook and will be rendered in place by mathjax\n",
    "\n",
    "$$\n",
    "\\mathbb P\\{z = v \\mid x \\}\n",
    "= \\begin{cases}\n",
    "    f_0(v) & \\mbox{if } x = x_0, \\\\\n",
    "    f_1(v) & \\mbox{if } x = x_1\n",
    "\\end{cases}\n",
    "$$"
   ]
  },
  {
   "cell_type": "markdown",
   "metadata": {},
   "source": [
    "## Tables\n",
    "\n",
    "The extension supports the conversion of **simple** rst tables.\n",
    "\n",
    "|Header 1|Header 2|Header 3|\n",
    "|:----------:|:----------:|:---------:|\n",
    "|body row 1|column 2|column 3|\n",
    "|body row 2|column 2|column 3|"
   ]
  }
 ],
 "metadata": {
  "date": 1594001059.300471,
  "download_nb": true,
  "download_nb_path": null,
  "filename": "demo_notebook.rst",
  "filename_with_path": "demo_notebook",
  "kernelspec": {
   "display_name": "Python",
   "language": "python3",
   "name": "python3"
  },
  "language_info": {
   "codemirror_mode": {
    "name": "ipython",
    "version": 3
   },
   "file_extension": ".py",
   "mimetype": "text/x-python",
   "name": "python",
   "nbconvert_exporter": "python",
   "pygments_lexer": "ipython3",
   "version": "3.7.7"
  },
  "title": "Simple Notebook Example"
 },
 "nbformat": 4,
 "nbformat_minor": 4
}
