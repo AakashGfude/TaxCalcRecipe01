{
 "cells": [
  {
   "cell_type": "markdown",
   "metadata": {},
   "source": [
    "# Welcome to AakashTest’s documentation!\n",
    "\n",
    "# Contents:\n",
    "- [Simple Notebook Example](demo_notebook.html)\n",
    "  - [Math](demo_notebook.html#math)\n",
    "  - [Tables](demo_notebook.html#tables)"
   ]
  },
  {
   "cell_type": "markdown",
   "metadata": {},
   "source": [
    "# Indices and tables\n",
    "\n",
    "- [Index](genindex.html)  \n",
    "- [Module Index](py-modindex.html)  \n",
    "- [Search Page](search.html)  "
   ]
  }
 ],
 "metadata": {
  "date": 1594001059.3160045,
  "download_nb": true,
  "download_nb_path": null,
  "filename": "index.rst",
  "filename_with_path": "index",
  "kernelspec": {
   "display_name": "Python",
   "language": "python3",
   "name": "python3"
  },
  "language_info": {
   "codemirror_mode": {
    "name": "ipython",
    "version": 3
   },
   "file_extension": ".py",
   "mimetype": "text/x-python",
   "name": "python",
   "nbconvert_exporter": "python",
   "pygments_lexer": "ipython3",
   "version": "3.7.7"
  },
  "title": "Welcome to AakashTest’s documentation!"
 },
 "nbformat": 4,
 "nbformat_minor": 4
}
